{
 "cells": [
  {
   "cell_type": "markdown",
   "id": "86aa3861-abce-4118-89e8-6a53f3c2e392",
   "metadata": {},
   "source": [
    "## Importing the dependencies"
   ]
  },
  {
   "cell_type": "code",
   "execution_count": null,
   "id": "ba5c4548-870f-4ee1-b280-239d3b14f13b",
   "metadata": {},
   "outputs": [],
   "source": [
    "import tensorflow_hub as hub\n",
    "import tensorflow as tf\n",
    "import numpy as np\n",
    "import matplotlib.pyplot as plt\n",
    "import cv2"
   ]
  },
  {
   "cell_type": "code",
   "execution_count": null,
   "id": "e84be278-6590-4b5e-a54f-5e76b9f180bb",
   "metadata": {
    "scrolled": true
   },
   "outputs": [],
   "source": [
    "model = hub.load(\"https://tfhub.dev/google/magenta/arbitrary-image-stylization-v1-256/2\")"
   ]
  },
  {
   "cell_type": "code",
   "execution_count": null,
   "id": "ce65e4bf-e509-480e-b9c7-bc4f3ac98f5d",
   "metadata": {},
   "outputs": [],
   "source": [
    "def load_image(img_path):\n",
    "    img = tf.io.read_file(img_path)\n",
    "    img = tf.image.decode_image(img, channels=3)\n",
    "    img = tf.image.convert_image_dtype(img, tf.float32)\n",
    "    img = img[tf.newaxis, :]\n",
    "    return img"
   ]
  },
  {
   "cell_type": "code",
   "execution_count": null,
   "id": "e73a0906-ddb1-45e0-a8bd-7577e1d1754a",
   "metadata": {},
   "outputs": [],
   "source": [
    "content_img = load_image(\"images/content/content3.jpeg\")\n",
    "# style_img = load_image(\"images/style/style1.jpeg\")\n",
    "# style_img = load_image(\"images/style/style2.jpeg\")\n",
    "# style_img = load_image(\"images/style/style3.jpeg\")\n",
    "# style_img = load_image(\"images/style/style4.jpeg\")\n",
    "style_img = load_image(\"images/style/style6.jpeg\")"
   ]
  },
  {
   "cell_type": "code",
   "execution_count": null,
   "id": "efeba5f1-2565-4223-90af-3eaf9ca3a3eb",
   "metadata": {},
   "outputs": [],
   "source": [
    "def visualize_img(img):\n",
    "    plt.imshow(np.squeeze(img))\n",
    "    plt.show"
   ]
  },
  {
   "cell_type": "code",
   "execution_count": null,
   "id": "3a31cde9-c077-4da1-8e56-8ee828f0aeec",
   "metadata": {},
   "outputs": [],
   "source": [
    "stylized_img = model(tf.constant(content_img), tf.constant(style_img))[0]"
   ]
  },
  {
   "cell_type": "code",
   "execution_count": null,
   "id": "38470c19-f13d-4860-ade1-6761b69a441c",
   "metadata": {},
   "outputs": [],
   "source": [
    "visualize_img(content_img)"
   ]
  },
  {
   "cell_type": "code",
   "execution_count": null,
   "id": "651c581f-2501-4f45-bc38-59fbfee7cfac",
   "metadata": {},
   "outputs": [],
   "source": [
    "visualize_img(style_img)"
   ]
  },
  {
   "cell_type": "code",
   "execution_count": null,
   "id": "0f7730d6-9a3b-41ec-9709-a2b3c1e6c042",
   "metadata": {},
   "outputs": [],
   "source": [
    "visualize_img(stylized_img)"
   ]
  },
  {
   "cell_type": "code",
   "execution_count": null,
   "id": "027a137b-957a-4d65-a30e-20cbe8717505",
   "metadata": {},
   "outputs": [],
   "source": [
    "cv2.imwrite(\"images/generated/generated3.jpeg\", cv2.cvtColor(np.squeeze(stylized_img)*255, cv2.COLOR_BGR2RGB))"
   ]
  },
  {
   "cell_type": "code",
   "execution_count": null,
   "id": "4bec20d6",
   "metadata": {},
   "outputs": [],
   "source": []
  }
 ],
 "metadata": {
  "kernelspec": {
   "display_name": "Python 3 (ipykernel)",
   "language": "python",
   "name": "python3"
  },
  "language_info": {
   "codemirror_mode": {
    "name": "ipython",
    "version": 3
   },
   "file_extension": ".py",
   "mimetype": "text/x-python",
   "name": "python",
   "nbconvert_exporter": "python",
   "pygments_lexer": "ipython3",
   "version": "3.8.13"
  }
 },
 "nbformat": 4,
 "nbformat_minor": 5
}
